{
 "cells": [
  {
   "cell_type": "markdown",
   "metadata": {},
   "source": [
    "### ==============================================================================\n",
    "### SCRIPT NAME: 02_CS_Plotting V3\n",
    "### PURPOSE: Data visualization and Variable selection\n",
    "### PACKAGES NEEDED: os, numpy, pandas, seaborn,  matplotlib\n",
    "### =============================================================================="
   ]
  },
  {
   "cell_type": "markdown",
   "metadata": {},
   "source": [
    "In this notebook you will be introduced to data vizualization in Python.\n",
    "\n",
    "Whenever in doubt you can always take at some of these resources:\n",
    "\n",
    "    help([function name]): Provides a detailed description of the function/\n",
    "    online pandas documentation: https://pandas.pydata.org/pandas-docs/stable/?v=20200107131408\n",
    "    online matplotlib documentation: https://matplotlib.org/contents.html?v=20200131112331\n",
    "    online seaborn documentation: https://seaborn.pydata.org/\n",
    "\n",
    "Note that whenever you see multiple consecutive question marks (like '???') you will have to enter something. Evaluating a cell can be done by clicking on the 'run' button at the top or by pressing shift + enter on a selected cell.\n",
    "\n",
    "Good luck!"
   ]
  },
  {
   "cell_type": "markdown",
   "metadata": {},
   "source": [
    "## Quick Links to the Exercises\n",
    "\n",
    "[Exercise 1: Basic Plotting with Pandas](#exercise1)  \n",
    "    \n",
    "[Exercise 2: Main Seaborn Functions](#exercise2)  \n",
    "- [displot() for distributions](#displot)  \n",
    "- [relplot() for relationships](#relplot)\n",
    "- [catplot() for categorical plots](#catplot) \n",
    "\n",
    "[Exercise 3: Pair Plots and Correlation Heatmaps](#exercise3)  \n"
   ]
  },
  {
   "cell_type": "markdown",
   "metadata": {},
   "source": [
    "# Import required packages #"
   ]
  },
  {
   "cell_type": "markdown",
   "metadata": {},
   "source": [
    "#### Import packages\n",
    "    import"
   ]
  },
  {
   "cell_type": "code",
   "execution_count": null,
   "metadata": {},
   "outputs": [],
   "source": [
    "# These libraries are commonly used for Data Analytics.  They extend Python with new functions.\n",
    "import numpy as np                    # support for large, multi-dimensional arrays and matrices\n",
    "import pandas as pd                   # for manipulating flat files with for analytics (uses numpy)\n",
    "import matplotlib.pyplot as plt       # Basic chart plotting\n",
    "import seaborn as sns                 # More advanced and easier-to-use chart plotting (uses matplotlib)"
   ]
  },
  {
   "cell_type": "markdown",
   "metadata": {},
   "source": [
    "# VISUALIZATION"
   ]
  },
  {
   "cell_type": "markdown",
   "metadata": {},
   "source": [
    "# <a id='exercise1'>Exercise 1 - Basic Plotting with Pandas</a>"
   ]
  },
  {
   "cell_type": "markdown",
   "metadata": {},
   "source": [
    "Histograms show the distribution of values for a particular variable of a dataset.  It allows us to see if there are outliers or any surprises in the distribution curve itself."
   ]
  },
  {
   "cell_type": "markdown",
   "metadata": {},
   "source": [
    "#### Read data\n",
    "    pd.read_csv(): Loads the file into Python enviroment"
   ]
  },
  {
   "cell_type": "code",
   "execution_count": null,
   "metadata": {},
   "outputs": [],
   "source": [
    "# Read the csv file\n",
    "data = pd.read_csv('data/cleaned_dataset.csv')"
   ]
  },
  {
   "cell_type": "markdown",
   "metadata": {},
   "source": [
    "Take a look at the data"
   ]
  },
  {
   "cell_type": "code",
   "execution_count": null,
   "metadata": {},
   "outputs": [],
   "source": [
    "# Get the names of the columns\n",
    "data.columns"
   ]
  },
  {
   "cell_type": "code",
   "execution_count": null,
   "metadata": {
    "scrolled": true
   },
   "outputs": [],
   "source": [
    "# Use describe to see the descriptives\n",
    "data.describe()"
   ]
  },
  {
   "cell_type": "markdown",
   "metadata": {},
   "source": [
    "# Basic plotting using pandas functions\n",
    "\n",
    "For basic visualization, pandas has some functions (building on matplotlib) that are very easy and quick to use, for example when cleaning and structuring data. For any DataFrame or Series object, we can add .plot() at the end\n",
    "\n",
    "- **data.plot(kind='____')**\n",
    "\n",
    "The **kind** argument decides which kind of plot from:\n",
    "- line\n",
    "- box\n",
    "- bar\n",
    "- scatter\n",
    "- hist\n",
    "\n",
    "Let's explore the variable **glass_temp_zone1**"
   ]
  },
  {
   "cell_type": "code",
   "execution_count": null,
   "metadata": {},
   "outputs": [],
   "source": [
    "data['glass_temp_zone1'].plot(kind='hist')"
   ]
  },
  {
   "cell_type": "markdown",
   "metadata": {},
   "source": [
    "This function we can also give for example the figsize = width and height that we want:"
   ]
  },
  {
   "cell_type": "code",
   "execution_count": null,
   "metadata": {},
   "outputs": [],
   "source": [
    "data['glass_temp_zone1'].plot(kind='line', figsize=(14,4))"
   ]
  },
  {
   "cell_type": "markdown",
   "metadata": {},
   "source": [
    "The default x-axis (if needed) is the index. Since we read in the data again from a csv, **we have to convert the timestamps to a DateTimeIndex again:**"
   ]
  },
  {
   "cell_type": "code",
   "execution_count": null,
   "metadata": {},
   "outputs": [],
   "source": [
    "data['time'] = pd.to_datetime(????)\n",
    "data.index = data['time']"
   ]
  },
  {
   "cell_type": "code",
   "execution_count": null,
   "metadata": {},
   "outputs": [],
   "source": [
    "data['glass_temp_zone1'].plot(kind='line', figsize=(14,4))"
   ]
  },
  {
   "cell_type": "markdown",
   "metadata": {},
   "source": [
    "If we pick many columns (or the entire table), each column will be used as a separate group"
   ]
  },
  {
   "cell_type": "code",
   "execution_count": null,
   "metadata": {},
   "outputs": [],
   "source": [
    "data[['glass_temp_zone1', 'glass_temp_zone2']].plot(kind=????, figsize=(14,4))"
   ]
  },
  {
   "cell_type": "markdown",
   "metadata": {},
   "source": [
    "To visualize only a part of the data, we can cut it with timestamps if the index is a DateTimeIndex\n",
    "\n",
    "    short_data = data.loc['start_time':'end_time']"
   ]
  },
  {
   "cell_type": "code",
   "execution_count": null,
   "metadata": {},
   "outputs": [],
   "source": [
    "data_B = data.loc['2021-02-12 14:00':'2021-02-12 16:00'].copy()\n",
    "\n",
    "data_B[['glass_temp_zone1', 'glass_temp_zone2']].plot(figsize=(14,4))"
   ]
  },
  {
   "cell_type": "markdown",
   "metadata": {},
   "source": [
    "# Plotting using seaborn\n",
    "\n",
    "#### Seaborn builds on matplotlib and gives us a few very powerful visualization functions, all with a very similar syntax:\n",
    "\n",
    "### sns.name-of-function(data=DataFrame, kind='plot-type', x='variable1', y='variable2', hue='grouping-var1',...)\n",
    "\n",
    "We can use:\n",
    "- **data**: the DataFrame (table) object that we usually work with\n",
    "- **x**: variable on the x-axis\n",
    "- **y**: variable on the y-axis\n",
    "- **hue**: variable  to group into colors after\n",
    "- **style**: variable to group into styles after (marker styles, line styles)\n",
    "- **size**: variable to group into sizes after (marker size, line width)\n",
    "\n",
    "If it's a high-level (\"figure-level\") function (relplot, displot, catplot), we can also use:\n",
    "- **kind**: kind of plot ('scatter', 'hist', 'box', etc.)\n",
    "- **row**: varaible to group into many subplots after, **row-wise**\n",
    "- **col**: varaible to group into many subplots after, **column-wise**\n",
    "- **height**: the height of each subplot\n",
    "- **aspect**: ratio of width to height of each subplot"
   ]
  },
  {
   "cell_type": "markdown",
   "metadata": {},
   "source": [
    "![](images/seaborn_structure.png)"
   ]
  },
  {
   "cell_type": "markdown",
   "metadata": {},
   "source": [
    "### You can either use the low-level (\"axis-level\") functions like"
   ]
  },
  {
   "cell_type": "code",
   "execution_count": null,
   "metadata": {},
   "outputs": [],
   "source": [
    "sns.histplot(data=data, x='glass_temp_zone1')"
   ]
  },
  {
   "cell_type": "markdown",
   "metadata": {},
   "source": [
    "### ...or high-level (\"figure-level\") functions like"
   ]
  },
  {
   "cell_type": "code",
   "execution_count": null,
   "metadata": {},
   "outputs": [],
   "source": [
    "sns.displot(data=data, kind='hist', x='glass_temp_zone1')"
   ]
  },
  {
   "cell_type": "markdown",
   "metadata": {},
   "source": [
    "## In this notebook, we will mostly use the high-level (figure-level) functions because of the added features (like making many grouped subplots)\n",
    "\n",
    "#### However, the syntax for both are similar, and if you want to customize a lot, the low-level axis functions might be more practical"
   ]
  },
  {
   "cell_type": "markdown",
   "metadata": {},
   "source": [
    "# Quick data summary\n",
    "\n",
    "#### The data is real is from Sekurit production of car glass windshields. Each line in the data table represents one produced unit.\n",
    "#### Let's say that we produced a few batches according to a few heating recipes (=settings). What batch/recipe each glass is is available in two corresponding columns."
   ]
  },
  {
   "cell_type": "code",
   "execution_count": null,
   "metadata": {},
   "outputs": [],
   "source": [
    "data[['batch', 'recipe', 'glass_ID']]"
   ]
  },
  {
   "cell_type": "markdown",
   "metadata": {},
   "source": [
    "A first question we can ask ourselves is:\n",
    "\n",
    "### Is there any difference between different recipes or batches?"
   ]
  },
  {
   "cell_type": "markdown",
   "metadata": {},
   "source": [
    "#  <a id='exercise2'>Exercise 2: Main Seaborn functions</a>"
   ]
  },
  {
   "cell_type": "markdown",
   "metadata": {},
   "source": [
    "# <a id='displot'>sns.displot(): Distribution plots like histograms</a>\n",
    "\n",
    "    displot(data=data_object, kind='hist', x='my_column')\n",
    "    kind can be:\n",
    "        'hist'\n",
    "        'kde'\n",
    "        'ecdf'\n",
    "\n",
    "To visualize groups of data in seaborn, all we have to do is to add the argument \n",
    "\n",
    "**hue**='name-of-group-variable'\n",
    "\n",
    "Group the data after the 'recipe' column:"
   ]
  },
  {
   "cell_type": "code",
   "execution_count": null,
   "metadata": {},
   "outputs": [],
   "source": [
    "sns.displot(data=data, kind='hist', x='glass_temp_zone1', hue=????)"
   ]
  },
  {
   "cell_type": "markdown",
   "metadata": {},
   "source": [
    "Sometimes it's hard to compare groups if they are overlapping too much. We can then split the data up into subfigures instead of colors with the argument \n",
    "- **row** or **col** ='name-of-group-variable'\n",
    "\n",
    "What does the argument **col** do?\n",
    "What happens if you set both **col** and **hue** to the same variable?"
   ]
  },
  {
   "cell_type": "code",
   "execution_count": null,
   "metadata": {},
   "outputs": [],
   "source": [
    "sns.displot(data=data, kind='hist', x='glass_temp_zone1', ???='recipe')"
   ]
  },
  {
   "cell_type": "markdown",
   "metadata": {},
   "source": [
    "\n",
    "\n",
    "\n",
    "For histograms (kind='hist'), we can customize how many bars are used with the argument **bins**=50, and we can choose to add \"kernel density estimate\" for estimating the probability distribution with **kde**=True"
   ]
  },
  {
   "cell_type": "code",
   "execution_count": null,
   "metadata": {},
   "outputs": [],
   "source": [
    "sns.displot(data=data, kind='hist', x='glass_temp_zone1', col='recipe', bins=50, kde=True)"
   ]
  },
  {
   "cell_type": "markdown",
   "metadata": {},
   "source": [
    "# <a id='relplot'>sns.relplot(): Relationships between two continous variables</a>\n",
    "\n",
    "    relplot(data=data_object, kind='line', x='my_x_column', y='my_y_column')\n",
    "    kind can be:\n",
    "        'line'\n",
    "        'scatter'"
   ]
  },
  {
   "cell_type": "markdown",
   "metadata": {},
   "source": [
    "## Line plots\n",
    "When using relplot(), we can specify which variables we want on the x and y axes. The most common line plot is probably the time series. If we have a DateTimeIndex, we enter x=data.index (or the name of another DateTime Format column)\n",
    "\n",
    "Does the **hue** argument work here too?"
   ]
  },
  {
   "cell_type": "code",
   "execution_count": null,
   "metadata": {},
   "outputs": [],
   "source": [
    "sns.relplot(data=data, kind=????, x=data.index, y='glass_temp_zone1', hue='recipe')"
   ]
  },
  {
   "cell_type": "markdown",
   "metadata": {},
   "source": [
    "The plot looks to small for this amount of data. displot()/relplot()/catplot() can all be adjusted with the arguments:\n",
    "- **height**: the height of each subplot\n",
    "- **aspect**: ratio of width to height of each subplot\n",
    "\n",
    "To make a plot that has a good height already wider, we only have to change the **aspect**:"
   ]
  },
  {
   "cell_type": "code",
   "execution_count": null,
   "metadata": {},
   "outputs": [],
   "source": [
    "sns.relplot(data=data, kind='line', x=data.index, y='glass_temp_zone1', hue='recipe', aspect=???)"
   ]
  },
  {
   "cell_type": "markdown",
   "metadata": {},
   "source": [
    "### Plotting the values in many columns with each other\n",
    "\n",
    "Sometimes you want to compare different columns to eachother (instead of the same column grouped in different ways)\n",
    "\n",
    "The seaborn functions do this when you **only give them a data-argument**\n",
    "\n",
    "### What goes wrong in the plot below?"
   ]
  },
  {
   "cell_type": "code",
   "execution_count": null,
   "metadata": {},
   "outputs": [],
   "source": [
    "sns.relplot(data=data, kind='line')"
   ]
  },
  {
   "cell_type": "markdown",
   "metadata": {},
   "source": [
    "Instead, use the list of glass temperature variables to plot only them together"
   ]
  },
  {
   "cell_type": "code",
   "execution_count": null,
   "metadata": {},
   "outputs": [],
   "source": [
    "glass_zones = ['glass_temp_zone1','glass_temp_zone2','glass_temp_zone3','glass_temp_zone4']\n",
    "\n",
    "sns.relplot(data=data[?????], kind='line', aspect=2,)"
   ]
  },
  {
   "cell_type": "markdown",
   "metadata": {},
   "source": [
    "# Scatterplots\n",
    "\n",
    "If there is no inherent order between the data points on one axis (like chronological), a scatter plot might be more suitable.\n",
    "\n",
    "Let's say we suspect that the quality output 'geometry_final' is dependent on the glass temperature that we have investigated:"
   ]
  },
  {
   "cell_type": "code",
   "execution_count": null,
   "metadata": {},
   "outputs": [],
   "source": [
    "sns.relplot(data=data, kind=????, x='glass_temp_zone1', y='geometry_final')"
   ]
  },
  {
   "cell_type": "markdown",
   "metadata": {},
   "source": [
    "It looks like there is some correlation, but noisy. Could it help to split up the data?\n",
    "\n",
    "#### Make one figure for each 'recipe', and one color for each 'batch'!"
   ]
  },
  {
   "cell_type": "code",
   "execution_count": null,
   "metadata": {},
   "outputs": [],
   "source": [
    "sns.relplot(data=data, kind='scatter', x='geometry_final', y='glass_temp_zone1', col=????, hue=????, height=4)"
   ]
  },
  {
   "cell_type": "markdown",
   "metadata": {},
   "source": [
    "Relplots can also use the **size** argument to scale the marker size or line width with yet another variable. This works for categorical variables as well as continous.\n",
    "\n",
    "**hue** can also be used for continous data, scaling a colormap between the minimum and maximum values.\n",
    "\n",
    "In the following example, we're visualizing 4 different variables in the same scatter plot!"
   ]
  },
  {
   "cell_type": "code",
   "execution_count": null,
   "metadata": {},
   "outputs": [],
   "source": [
    "sns.relplot(data=data, \n",
    "            kind='scatter', \n",
    "            x='glass_temp_zone1', \n",
    "            y='geometry_final', \n",
    "            hue='glass_temp_zone4',\n",
    "            size='cycle_time',\n",
    "            height=10)"
   ]
  },
  {
   "cell_type": "markdown",
   "metadata": {},
   "source": [
    "# <a id='catplot'>Categorical plots like boxplots, barplots</a>\n",
    "\n",
    "So far, we could add hue/row/col to group data points, but we can also use categorical type plots to compare groups:\n",
    "\n",
    "    catplot(data=data_object, kind='box', x='my_x_column', y='my_y_column')\n",
    "    kind can be:\n",
    "        'box'\n",
    "        'bar'\n",
    "        'strip'\n",
    "        'swarm'\n",
    "        'violin'\n",
    "\n",
    "Try out the different kinds and see what's the difference!"
   ]
  },
  {
   "cell_type": "code",
   "execution_count": null,
   "metadata": {},
   "outputs": [],
   "source": [
    "sns.catplot(data=data, kind=????, x='batch', y='geometry_final', height=4, aspect=2)"
   ]
  },
  {
   "cell_type": "markdown",
   "metadata": {},
   "source": [
    "As before, if we want to use different coulmns as categories, a data-argument and a list of the column names is enough for the seaborn function"
   ]
  },
  {
   "cell_type": "code",
   "execution_count": null,
   "metadata": {},
   "outputs": [],
   "source": [
    "sns.catplot(data=data[glass_zones], kind='box', aspect=1.5)"
   ]
  },
  {
   "cell_type": "markdown",
   "metadata": {},
   "source": [
    "# <a id='exercise3'>Exercise 3: Pair Plots and correlation heatmaps</a>"
   ]
  },
  {
   "cell_type": "markdown",
   "metadata": {},
   "source": [
    "We can use the scatter plot to see the relationship between two variables, but it is a bit time consuling to run all of the pairings.  Fortunately, the Pair Plot will do it for us.  "
   ]
  },
  {
   "cell_type": "markdown",
   "metadata": {},
   "source": [
    "We have many variables available, but we are interested in seeing correlation plots only between some of those:"
   ]
  },
  {
   "cell_type": "code",
   "execution_count": null,
   "metadata": {},
   "outputs": [],
   "source": [
    "# Select only a couple of variables\n",
    "variables = [\n",
    "    'glass_temp_zone1',\n",
    "    'glass_temp_zone2',\n",
    "    'geometry_final',\n",
    "    'regulation_temp',\n",
    "    'energy_equivalent',\n",
    "    'recipe',\n",
    "    ]\n",
    "\n",
    "data_for_pair = data[????]"
   ]
  },
  {
   "cell_type": "code",
   "execution_count": null,
   "metadata": {},
   "outputs": [],
   "source": [
    "# Remove missing values\n",
    "data_for_pair = data_for_pair.dropna()"
   ]
  },
  {
   "cell_type": "markdown",
   "metadata": {},
   "source": [
    "    sns.pairplot(): Creates a scatter plot between each pair of variables in the provided data"
   ]
  },
  {
   "cell_type": "code",
   "execution_count": null,
   "metadata": {},
   "outputs": [],
   "source": [
    "sns.pairplot(data_for_pair)"
   ]
  },
  {
   "cell_type": "markdown",
   "metadata": {},
   "source": [
    "##### Create a grouped pairplot\n",
    "\n",
    "Does **hue** work here as well?\n",
    "\n",
    "The subplots are mirrored on the diagonal, so one half is redundant.\n",
    "Use **corner**=True to just plot the lower half."
   ]
  },
  {
   "cell_type": "code",
   "execution_count": null,
   "metadata": {},
   "outputs": [],
   "source": [
    "sns.pairplot(data_for_pair, ???='recipe', corner=True)"
   ]
  },
  {
   "cell_type": "markdown",
   "metadata": {},
   "source": [
    "#### What do you see in the charts?  Are there any correlations that stand out?\n",
    "\n",
    "Learn more about the Pair Plot here : https://seaborn.pydata.org/generated/seaborn.pairplot.html"
   ]
  },
  {
   "cell_type": "markdown",
   "metadata": {},
   "source": [
    "## Correlation Heatmap"
   ]
  },
  {
   "cell_type": "markdown",
   "metadata": {},
   "source": [
    "The Pair plot compared variables using scatter plots.  We could then visual inspect each plot and see if noticed any correlation, either positive or negative.  \n",
    "\n",
    "A Correlation heatmap does something similar, but it uses colors to show the strength and direction of the correlation.  "
   ]
  },
  {
   "cell_type": "markdown",
   "metadata": {},
   "source": [
    "#### Calculate correlations\n",
    "\n",
    "    corr(): Creates correlation for each pair of variables"
   ]
  },
  {
   "cell_type": "code",
   "execution_count": null,
   "metadata": {},
   "outputs": [],
   "source": [
    "# Create a new dataset that contains the correlation strengths between all pairs of data\n",
    "# We use the same variables as we already had for the pair plot\n",
    "data_correlations = data_for_pair.corr()\n",
    "data_correlations"
   ]
  },
  {
   "cell_type": "markdown",
   "metadata": {},
   "source": [
    "#### Correlation heatmap\n",
    "Calculate correlation for the variables in the data and plot a heatmap.\n",
    "\n",
    "    sns.heatmap()"
   ]
  },
  {
   "cell_type": "code",
   "execution_count": null,
   "metadata": {},
   "outputs": [],
   "source": [
    "# Dispaly a heatmap plot using the dataset of pairwise correlations\n",
    "sns.heatmap(????)"
   ]
  },
  {
   "cell_type": "markdown",
   "metadata": {},
   "source": [
    "How does this compare with the Pair Plot we did earlier?  Let's do it again just to compare."
   ]
  },
  {
   "cell_type": "code",
   "execution_count": null,
   "metadata": {},
   "outputs": [],
   "source": [
    "sns.pairplot(data_for_pair, height=1.5)"
   ]
  },
  {
   "cell_type": "markdown",
   "metadata": {},
   "source": [
    "Learn more about the Heatmap plot here : https://seaborn.pydata.org/generated/seaborn.heatmap.html"
   ]
  },
  {
   "cell_type": "markdown",
   "metadata": {},
   "source": [
    "# Improve formatting of correlation plot\n",
    "\n",
    "We can do a lot to improve visual aspect of our plots. Let's look at the example."
   ]
  },
  {
   "cell_type": "markdown",
   "metadata": {},
   "source": [
    "#### Only show lower part of the plot\n",
    "    mask\n",
    "    np.zeros_like(): Return an array of zeros with the same shape and type as a given array\n",
    "    np.triu_indices_from(): Return the indices for the upper-triangle of arr\n",
    "    sns.heatmap()"
   ]
  },
  {
   "cell_type": "code",
   "execution_count": null,
   "metadata": {},
   "outputs": [],
   "source": [
    "mask = np.zeros_like(data_correlations)\n",
    "mask[np.triu_indices_from(mask)] = True\n",
    "sns.heatmap(data_correlations, mask=mask)"
   ]
  },
  {
   "cell_type": "markdown",
   "metadata": {},
   "source": [
    "#### Add labels \n",
    "    annot=True\n",
    "    plt.subplots(figsize=(x,y)): increase figure size to x-by-y inches"
   ]
  },
  {
   "cell_type": "code",
   "execution_count": null,
   "metadata": {},
   "outputs": [],
   "source": [
    "plt.subplots(figsize=(5,5))\n",
    "sns.heatmap(data_correlations, mask=mask, annot=True)"
   ]
  },
  {
   "cell_type": "markdown",
   "metadata": {},
   "source": [
    "#### Change color scheme\n",
    "\n",
    "Seaborn (and matplotlib) have a lot of good predefined colormaps that we can use:\n",
    "[Here's the list of available colormaps ordered after categories](https://matplotlib.org/stable/tutorials/colors/colormaps.html)\n",
    "\n",
    "#### Which of these do you think is best in this case?\n",
    "\n",
    "![](./images/colormap_examples.png)\n",
    "\n",
    "We can also fix the lower and upper limits of the color map with the arguments vmin/vmax.\n",
    "Since we know that correlation coefficients go from -1 to 1, this makes sense to fix."
   ]
  },
  {
   "cell_type": "code",
   "execution_count": null,
   "metadata": {},
   "outputs": [],
   "source": [
    "plt.subplots(figsize=(5,5))\n",
    "sns.heatmap(data_correlations, mask=mask, annot=True, cmap=?????, vmin=-1, vmax=1);"
   ]
  },
  {
   "cell_type": "markdown",
   "metadata": {},
   "source": [
    "In correlation heatmaps, we can include more variables and still have a pretty good overview of everything"
   ]
  },
  {
   "cell_type": "code",
   "execution_count": null,
   "metadata": {},
   "outputs": [],
   "source": [
    "data_correlations_all = data.corr()\n",
    "\n",
    "mask = np.zeros_like(data_correlations_all)\n",
    "mask[np.triu_indices_from(mask)] = True\n",
    "\n",
    "plt.subplots(figsize=(15,15))\n",
    "sns.heatmap(data_correlations_all, mask=mask, annot=True, cmap=\"coolwarm\", vmin=-1, vmax=1)"
   ]
  },
  {
   "cell_type": "markdown",
   "metadata": {},
   "source": [
    "## We can see that we have data that correlates with our output variable 'geometry_final'!\n",
    "\n",
    "## If we want to know **how** they relate to eachother, we have to do some modelling!"
   ]
  },
  {
   "cell_type": "markdown",
   "metadata": {},
   "source": [
    "# Bonus: customizing plots with matplotlib functions\n",
    "A lot of work is done by seaborn to make the plots look nice directly, but what if we want to change things?\n",
    "\n",
    "The standard we get from seaborn in this case is this:"
   ]
  },
  {
   "cell_type": "code",
   "execution_count": null,
   "metadata": {},
   "outputs": [],
   "source": [
    "sns.relplot(data=data, kind='line', x='time', y='glass_temp_zone1', aspect=2, hue='recipe')"
   ]
  },
  {
   "cell_type": "markdown",
   "metadata": {},
   "source": [
    "We can adjust titles, labels, fontsizes, rotation, background, etc. to make it fit our needs better:"
   ]
  },
  {
   "cell_type": "code",
   "execution_count": null,
   "metadata": {},
   "outputs": [],
   "source": [
    "sns.relplot(data=data, kind='line', x='time', y='glass_temp_zone1', aspect=2, hue='recipe')\n",
    "\n",
    "# COMMENTS\n",
    "plt.title('Temperature in glass zone 1 for latest production', fontsize=20)\n",
    "\n",
    "plt.xlabel('Timestamp at chamber 18 [MM-DD HH]', fontsize=15)\n",
    "plt.xticks(rotation=45)\n",
    "\n",
    "plt.ylabel(r'Temperature glass zone 1 [$^\\circ$C]', fontsize=15) # With an r before a string, we can add LaTeX formatting\n",
    "\n",
    "plt.ylim(651, 657) # \"Zooming\" in/out to defined limits in x and y\n",
    "\n",
    "plt.grid(True)"
   ]
  },
  {
   "cell_type": "code",
   "execution_count": null,
   "metadata": {},
   "outputs": [],
   "source": []
  },
  {
   "cell_type": "markdown",
   "metadata": {},
   "source": [
    "# Bonus: defining your own color palettes"
   ]
  },
  {
   "cell_type": "markdown",
   "metadata": {},
   "source": [
    "You can define your own palette of colours setting up 'palette' parameter:"
   ]
  },
  {
   "cell_type": "code",
   "execution_count": null,
   "metadata": {},
   "outputs": [],
   "source": [
    "my_palette = {'Recipe-A': 'grey', 'Recipe-B': 'red', 'Recipe-C':'grey'}\n",
    "sns.catplot(data=data, kind='box', x='recipe', y='glass_temp_zone1', palette=my_palette);\n"
   ]
  },
  {
   "cell_type": "markdown",
   "metadata": {},
   "source": [
    "'my_palette' is a 'dictionary' which is yet another type of object used in Python. We won't go into the details of dictionaries here, but if you're interested, you can read more about them here: https://www.w3schools.com/python/python_dictionaries.asp"
   ]
  },
  {
   "cell_type": "markdown",
   "metadata": {},
   "source": [
    "#### We can also make a palette from a list of colors, without specifying which group they belong to. \n",
    "\n",
    "#### Why not make one for Saint-Gobain's color scheme?"
   ]
  },
  {
   "cell_type": "code",
   "execution_count": null,
   "metadata": {},
   "outputs": [],
   "source": [
    "SG_colors = ['#4DB1B3', '#0195D6', '#0F5299', '#C5284C', '#E83430', '#E66407',]\n",
    "\n",
    "# n_colors says how many colors can be used, but more than 6 in this case and the colors will loop around\n",
    "SG_palette = sns.color_palette(SG_colors, n_colors=20) \n",
    "\n",
    "# With set_palette(), we can choose this new palette as the default for all plots\n",
    "sns.set_palette(SG_palette)\n",
    "#sns.set_palette('deep') # Uncomment this line if you want to use the default palette again\n",
    "\n",
    "sns.catplot(data=data, kind='bar', x='batch', y='geometry_final', height=4, aspect=2)\n",
    "\n",
    "sns.relplot(data=data, kind='scatter', x='geometry_final', y='glass_temp_zone1', col='recipe', hue='batch', height=4,)"
   ]
  },
  {
   "cell_type": "markdown",
   "metadata": {},
   "source": [
    "## Change seaborn style/theme\n",
    "\n",
    "Seaborn has some different themes to automatically format all plots in another way. \n",
    "Uncomment one of these lines when you're done, execute, and execute the whole notebook again!\n",
    "\n",
    "- set_context() sets things like the size of the labels, lines, and other elements of the plot, but not the overall style.\n",
    "    - 'paper', 'notebook', 'talk', 'poster'\n",
    "- set_style()  affects things like the color of the axes, whether a grid is enabled by default, and other aesthetics.\n",
    "    - 'darkgrid', 'whitegrid', 'dark', 'white', 'ticks'\n",
    "\n",
    "What changed? Does it look nicer?\n",
    "\n",
    "The changes will stay until the Python kernel (notebook) is restarted, or it has to be changed back with a similar command."
   ]
  },
  {
   "cell_type": "code",
   "execution_count": null,
   "metadata": {},
   "outputs": [],
   "source": [
    "#sns.set_theme(style=\"darkgrid\")\n",
    "#sns.set_context(\"talk\")"
   ]
  }
 ],
 "metadata": {
  "kernelspec": {
   "display_name": "Python 3",
   "language": "python",
   "name": "python3"
  },
  "language_info": {
   "codemirror_mode": {
    "name": "ipython",
    "version": 3
   },
   "file_extension": ".py",
   "mimetype": "text/x-python",
   "name": "python",
   "nbconvert_exporter": "python",
   "pygments_lexer": "ipython3",
   "version": "3.8.10"
  }
 },
 "nbformat": 4,
 "nbformat_minor": 2
}
